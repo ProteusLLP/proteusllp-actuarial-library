{
 "cells": [
  {
   "cell_type": "markdown",
   "metadata": {},
   "source": [
    "# Catastrophe Modeling Example\n",
    "\n",
    "This example demonstrates catastrophe modeling using the Proteus Actuarial Library (PAL).\n",
    "\n",
    "The example shows how to:\n",
    "- Load catastrophe year loss table (YLT) data\n",
    "- Upsample the data to match simulation requirements\n",
    "- Apply inflation modeling\n",
    "- Calculate recoveries with limits\n",
    "- Visualize the results with CDF plots"
   ]
  },
  {
   "cell_type": "markdown",
   "metadata": {},
   "source": [
    "## Setup and Configuration"
   ]
  },
  {
   "cell_type": "code",
   "execution_count": null,
   "metadata": {},
   "outputs": [],
   "source": "import math\n\nimport pandas as pd  # type: ignore\nfrom pal import config, distributions\nfrom pal._maths import xp as np\nfrom pal.variables import FreqSevSims, ProteusVariable, StochasticScalar"
  },
  {
   "cell_type": "code",
   "execution_count": 12,
   "metadata": {},
   "outputs": [
    {
     "name": "stdout",
     "output_type": "stream",
     "text": [
      "Lines of business: ['Motor', 'Property', 'Liability', 'Marine', 'Aviation']\n",
      "Number of simulations: 100,000\n"
     ]
    }
   ],
   "source": [
    "# Configure simulation parameters\n",
    "n_sims = 100000\n",
    "config.n_sims = n_sims\n",
    "\n",
    "# Define lines of business\n",
    "lobs = [\"Motor\", \"Property\", \"Liability\", \"Marine\", \"Aviation\"]\n",
    "print(f\"Lines of business: {lobs}\")\n",
    "print(f\"Number of simulations: {n_sims:,}\")"
   ]
  },
  {
   "cell_type": "markdown",
   "metadata": {},
   "source": [
    "## Load and Process Catastrophe Data"
   ]
  },
  {
   "cell_type": "code",
   "execution_count": 13,
   "metadata": {},
   "outputs": [
    {
     "name": "stdout",
     "output_type": "stream",
     "text": [
      "Loaded catastrophe data with shape: (20049, 6)\n",
      "\n",
      "First few rows:\n"
     ]
    },
    {
     "data": {
      "text/html": [
       "<div>\n",
       "<style scoped>\n",
       "    .dataframe tbody tr th:only-of-type {\n",
       "        vertical-align: middle;\n",
       "    }\n",
       "\n",
       "    .dataframe tbody tr th {\n",
       "        vertical-align: top;\n",
       "    }\n",
       "\n",
       "    .dataframe thead th {\n",
       "        text-align: right;\n",
       "    }\n",
       "</style>\n",
       "<table border=\"1\" class=\"dataframe\">\n",
       "  <thead>\n",
       "    <tr style=\"text-align: right;\">\n",
       "      <th></th>\n",
       "      <th>sim</th>\n",
       "      <th>Motor</th>\n",
       "      <th>Property</th>\n",
       "      <th>Liability</th>\n",
       "      <th>Marine</th>\n",
       "      <th>Aviation</th>\n",
       "    </tr>\n",
       "    <tr>\n",
       "      <th>id</th>\n",
       "      <th></th>\n",
       "      <th></th>\n",
       "      <th></th>\n",
       "      <th></th>\n",
       "      <th></th>\n",
       "      <th></th>\n",
       "    </tr>\n",
       "  </thead>\n",
       "  <tbody>\n",
       "    <tr>\n",
       "      <th>10000000</th>\n",
       "      <td>1</td>\n",
       "      <td>0.0</td>\n",
       "      <td>8.198728e+07</td>\n",
       "      <td>0.0</td>\n",
       "      <td>7.038996e+06</td>\n",
       "      <td>1.553890e+06</td>\n",
       "    </tr>\n",
       "    <tr>\n",
       "      <th>10000001</th>\n",
       "      <td>1</td>\n",
       "      <td>0.0</td>\n",
       "      <td>2.139836e+07</td>\n",
       "      <td>0.0</td>\n",
       "      <td>1.837151e+06</td>\n",
       "      <td>4.055592e+05</td>\n",
       "    </tr>\n",
       "    <tr>\n",
       "      <th>10000002</th>\n",
       "      <td>1</td>\n",
       "      <td>0.0</td>\n",
       "      <td>9.299629e+07</td>\n",
       "      <td>0.0</td>\n",
       "      <td>7.984172e+06</td>\n",
       "      <td>1.762542e+06</td>\n",
       "    </tr>\n",
       "    <tr>\n",
       "      <th>10000003</th>\n",
       "      <td>1</td>\n",
       "      <td>0.0</td>\n",
       "      <td>1.031189e+07</td>\n",
       "      <td>0.0</td>\n",
       "      <td>8.853243e+05</td>\n",
       "      <td>1.954393e+05</td>\n",
       "    </tr>\n",
       "    <tr>\n",
       "      <th>10000004</th>\n",
       "      <td>1</td>\n",
       "      <td>0.0</td>\n",
       "      <td>5.328804e+06</td>\n",
       "      <td>0.0</td>\n",
       "      <td>4.575030e+05</td>\n",
       "      <td>1.009958e+05</td>\n",
       "    </tr>\n",
       "  </tbody>\n",
       "</table>\n",
       "</div>"
      ],
      "text/plain": [
       "          sim  Motor      Property  Liability        Marine      Aviation\n",
       "id                                                                       \n",
       "10000000    1    0.0  8.198728e+07        0.0  7.038996e+06  1.553890e+06\n",
       "10000001    1    0.0  2.139836e+07        0.0  1.837151e+06  4.055592e+05\n",
       "10000002    1    0.0  9.299629e+07        0.0  7.984172e+06  1.762542e+06\n",
       "10000003    1    0.0  1.031189e+07        0.0  8.853243e+05  1.954393e+05\n",
       "10000004    1    0.0  5.328804e+06        0.0  4.575030e+05  1.009958e+05"
      ]
     },
     "execution_count": 13,
     "metadata": {},
     "output_type": "execute_result"
    }
   ],
   "source": [
    "# Load the catastrophe year loss table (YLT)\n",
    "df = pd.read_csv(\"../data/catastrophes/cat_ylt.csv\", index_col=0)  # type: ignore[misc]\n",
    "print(f\"Loaded catastrophe data with shape: {df.shape}\")\n",
    "print(\"\\nFirst few rows:\")\n",
    "df.head()"
   ]
  },
  {
   "cell_type": "code",
   "execution_count": 14,
   "metadata": {},
   "outputs": [
    {
     "name": "stdout",
     "output_type": "stream",
     "text": [
      "Original YLT simulations: 10,000\n",
      "Target simulations: 100,000\n",
      "Upsampling factor: 10\n",
      "\n",
      "Upsampled simulation index length: 200,490\n"
     ]
    }
   ],
   "source": [
    "# Upsample the catastrophe YLTs to match our simulation requirements\n",
    "ylt_sims = 10000\n",
    "up_sample_factor = math.ceil(n_sims / ylt_sims)\n",
    "\n",
    "print(f\"Original YLT simulations: {ylt_sims:,}\")\n",
    "print(f\"Target simulations: {n_sims:,}\")\n",
    "print(f\"Upsampling factor: {up_sample_factor}\")\n",
    "\n",
    "# Create upsampled simulation indices and values\n",
    "sim_index = df[\"sim\"].values.repeat(up_sample_factor)\n",
    "print(f\"\\nUpsampled simulation index length: {len(sim_index):,}\")"
   ]
  },
  {
   "cell_type": "markdown",
   "metadata": {},
   "source": [
    "## Create Catastrophe Loss Variables"
   ]
  },
  {
   "cell_type": "code",
   "execution_count": 15,
   "metadata": {},
   "outputs": [
    {
     "name": "stdout",
     "output_type": "stream",
     "text": [
      "Created catastrophe loss variables for all lines of business\n",
      "Variable dimension: lob\n",
      "Lines of business: ['Motor', 'Property', 'Liability', 'Marine', 'Aviation']\n"
     ]
    }
   ],
   "source": [
    "# Create ProteusVariable containing FreqSevSims for each line of business\n",
    "cat_losses = ProteusVariable(\n",
    "    \"lob\",\n",
    "    {\n",
    "        lob: FreqSevSims(\n",
    "            sim_index,\n",
    "            df[lob].values.repeat(up_sample_factor),\n",
    "            n_sims=config.n_sims,\n",
    "        )\n",
    "        for lob in lobs\n",
    "    },\n",
    ")\n",
    "\n",
    "print(\"Created catastrophe loss variables for all lines of business\")\n",
    "print(f\"Variable dimension: {cat_losses.dim_name}\")\n",
    "print(f\"Lines of business: {list(cat_losses.values.keys())}\")"
   ]
  },
  {
   "cell_type": "markdown",
   "metadata": {},
   "source": [
    "## Apply Inflation Modeling"
   ]
  },
  {
   "cell_type": "code",
   "execution_count": null,
   "metadata": {},
   "outputs": [],
   "source": "# Create inflation rate variable (Normal distribution with 5% mean, 2% std dev)\ninflation_rate = distributions.Normal(0.05, 0.02).generate()\n\nprint(\"Inflation rate statistics:\")\nprint(f\"  Mean: {np.mean(inflation_rate):.3f}\")\nprint(f\"  Std Dev: {np.std(inflation_rate):.3f}\")\nprint(f\"  Min: {np.min(inflation_rate):.3f}\")\nprint(f\"  Max: {np.max(inflation_rate):.3f}\")"
  },
  {
   "cell_type": "code",
   "execution_count": 17,
   "metadata": {},
   "outputs": [
    {
     "name": "stdout",
     "output_type": "stream",
     "text": [
      "Applied inflation scaling to catastrophe losses.\n",
      "Scaled losses by line of business: ['Motor', 'Property', 'Liability', 'Marine', 'Aviation']\n"
     ]
    }
   ],
   "source": [
    "# Apply inflation to catastrophe losses\n",
    "scaled_cat_losses_by_lob = cat_losses * (1 + inflation_rate)\n",
    "\n",
    "print(\n",
    "    \"Applied inflation scaling to catastrophe losses.\\n\"\n",
    "    \"Scaled losses by line of business: \"\n",
    "    f\"{list(scaled_cat_losses_by_lob.values.keys())}\"\n",
    ")"
   ]
  },
  {
   "cell_type": "code",
   "execution_count": null,
   "metadata": {},
   "outputs": [],
   "source": "# Sum across all lines of business to get total catastrophe losses\nscaled_cat_losses: FreqSevSims = sum(scaled_cat_losses_by_lob)\n\n# Aggregate individual events to get total loss per simulation\naggregate_losses: StochasticScalar = scaled_cat_losses.aggregate()\n\nprint(\"Total scaled catastrophe losses statistics:\")\nprint(f\"  Mean: {np.mean(aggregate_losses):,.0f}\")\nprint(f\"  Std Dev: {np.std(aggregate_losses):,.0f}\")\nprint(f\"  Min: {np.min(aggregate_losses):,.0f}\")\nprint(f\"  Max: {np.max(aggregate_losses):,.0f}\")"
  },
  {
   "cell_type": "markdown",
   "metadata": {},
   "source": [
    "## Calculate Recoveries"
   ]
  },
  {
   "cell_type": "code",
   "execution_count": null,
   "metadata": {},
   "outputs": [],
   "source": "# Calculate recoveries with limits\n# Recoveries = min(max(losses - 10M, 0), 10M)\n# This represents a reinsurance layer: 10M xs 10M (10M excess of 10M)\nrecoveries_fs: FreqSevSims = np.minimum(\n    np.maximum(scaled_cat_losses - 10000000, 0), 10000000\n)\n\n# Aggregate recoveries to get total recovery per simulation\nrecoveries: StochasticScalar = recoveries_fs.aggregate()\n\nprint(\"Recoveries statistics:\")\nprint(f\"  Mean: {np.mean(recoveries):,.0f}\")\nprint(f\"  Std Dev: {np.std(recoveries):,.0f}\")\nprint(f\"  Min: {np.min(recoveries):,.0f}\")\nprint(f\"  Max: {np.max(recoveries):,.0f}\")\nprint(f\"  Non-zero recoveries: {(recoveries.values > 0).sum():,} out of {len(recoveries.values):,}\")"
  },
  {
   "cell_type": "markdown",
   "metadata": {},
   "source": [
    "## Visualize Results"
   ]
  },
  {
   "cell_type": "code",
   "execution_count": null,
   "metadata": {},
   "outputs": [],
   "source": "# Show cumulative distribution function (CDF) of recoveries\nrecoveries.show_cdf()"
  }
 ],
 "metadata": {
  "kernelspec": {
   "display_name": "proteusllp-actuarial-library-3.13",
   "language": "python",
   "name": "python3"
  },
  "language_info": {
   "codemirror_mode": {
    "name": "ipython",
    "version": 3
   },
   "file_extension": ".py",
   "mimetype": "text/x-python",
   "name": "python",
   "nbconvert_exporter": "python",
   "pygments_lexer": "ipython3",
   "version": "3.13.5"
  }
 },
 "nbformat": 4,
 "nbformat_minor": 4
}